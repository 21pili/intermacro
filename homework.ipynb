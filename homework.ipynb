{
 "cells": [
  {
   "cell_type": "markdown",
   "metadata": {},
   "source": [
    "## EXERCISE 2 - IMPERFECT CAPITAL MOBILITY AND CROWDING OUT"
   ]
  },
  {
   "cell_type": "markdown",
   "metadata": {},
   "source": []
  },
  {
   "cell_type": "code",
   "execution_count": 37,
   "metadata": {},
   "outputs": [],
   "source": [
    "import numpy as np\n",
    "import matplotlib.pyplot as plt"
   ]
  },
  {
   "cell_type": "code",
   "execution_count": 38,
   "metadata": {},
   "outputs": [],
   "source": [
    "#CONSTANTES\n",
    "beta = 0.96\n",
    "rstar = 0.08\n",
    "p = 0.02\n",
    "Y = 20"
   ]
  },
  {
   "cell_type": "code",
   "execution_count": 39,
   "metadata": {},
   "outputs": [],
   "source": [
    "# FONCTIONS SIMPLES\n",
    "def I1(r1):\n",
    "    return 9 * 1/(1+r1)**2\n",
    "def Pi(r1, I1):\n",
    "    return 6 * np.sqrt(I1) - (1+r1) * I1\n",
    "def Wh(r1, I1, G):\n",
    "    return Y - G[0] + (Pi(r1, I1) - G[1]) / (1 + r1)\n",
    "def B1(r1, G):\n",
    "    f = 1 / (1 + beta)\n",
    "    I = I1(r1)\n",
    "    C1 = f * Wh(r1, I, G)\n",
    "    return Y - G[0] - C1 - I"
   ]
  },
  {
   "cell_type": "code",
   "execution_count": 44,
   "metadata": {},
   "outputs": [
    {
     "name": "stdout",
     "output_type": "stream",
     "text": [
      "0.9601914840010082\n",
      "1.3199527744982298\n",
      "7.716049382716049\n"
     ]
    }
   ],
   "source": [
    "#QUESTION 1\n",
    "G = [1, 7]\n",
    "Bstar = B1(rstar, G)\n",
    "Bp = B1(rstar+p, G)\n",
    "print(Bstar)\n",
    "print(Bp)\n",
    "print(I1(rstar))"
   ]
  },
  {
   "cell_type": "code",
   "execution_count": null,
   "metadata": {},
   "outputs": [],
   "source": []
  },
  {
   "cell_type": "code",
   "execution_count": 45,
   "metadata": {},
   "outputs": [
    {
     "name": "stdout",
     "output_type": "stream",
     "text": [
      "0.47039556563366247\n",
      "0.8301568561308823\n",
      "7.716049382716049\n"
     ]
    }
   ],
   "source": [
    "#QUESTION 2\n",
    "G = [2, 7]\n",
    "B = B1(rstar, G)\n",
    "print(B)\n",
    "B = B1(rstar + p, G)\n",
    "print(B)\n",
    "print(I1(rstar))"
   ]
  },
  {
   "cell_type": "code",
   "execution_count": 46,
   "metadata": {},
   "outputs": [
    {
     "name": "stdout",
     "output_type": "stream",
     "text": [
      "-0.5091962711010325\n",
      "-0.14943498060381089\n",
      "7.438016528925619\n"
     ]
    }
   ],
   "source": [
    "#QUESTION 3\n",
    "G = [4, 7]\n",
    "B = B1(rstar, G)\n",
    "print(B)\n",
    "B = B1(rstar + p, G)\n",
    "print(B)\n",
    "print(I1(rstar + p))"
   ]
  },
  {
   "cell_type": "code",
   "execution_count": 48,
   "metadata": {},
   "outputs": [
    {
     "name": "stdout",
     "output_type": "stream",
     "text": [
      "-0.5091962711010325\n",
      "0.19018117451062366\n"
     ]
    }
   ],
   "source": [
    "#QUESTION 4\n",
    "G = [4, 7]\n",
    "p = 0.04\n",
    "Bstar = B1(rstar, G)\n",
    "print(Bstar)\n",
    "Bp = B1(rstar + p, G)\n",
    "print(Bp)"
   ]
  },
  {
   "cell_type": "code",
   "execution_count": 50,
   "metadata": {},
   "outputs": [
    {
     "name": "stdout",
     "output_type": "stream",
     "text": [
      "8.33333333333333\n",
      "8.035714285714283\n"
     ]
    }
   ],
   "source": [
    "print(Pi(rstar, I1(rstar)))\n",
    "print(Pi(rstar + p, I1(rstar + p)))"
   ]
  },
  {
   "cell_type": "code",
   "execution_count": 60,
   "metadata": {},
   "outputs": [],
   "source": [
    "def P(r):\n",
    "    return Pi(r, I1(r))"
   ]
  },
  {
   "cell_type": "code",
   "execution_count": 61,
   "metadata": {},
   "outputs": [
    {
     "data": {
      "text/plain": [
       "8.910891089108912"
      ]
     },
     "execution_count": 61,
     "metadata": {},
     "output_type": "execute_result"
    }
   ],
   "source": [
    "P(0.01)"
   ]
  },
  {
   "cell_type": "code",
   "execution_count": 81,
   "metadata": {},
   "outputs": [],
   "source": [
    "R = np.linspace(0.06, 0.14, 100)\n",
    "Y = P(R)\n",
    "rates = [rstar, rstar + p]\n",
    "profits = P(np.array(rates))"
   ]
  },
  {
   "cell_type": "code",
   "execution_count": 89,
   "metadata": {},
   "outputs": [
    {
     "name": "stderr",
     "output_type": "stream",
     "text": [
      "No artists with labels found to put in legend.  Note that artists whose label start with an underscore are ignored when legend() is called with no argument.\n"
     ]
    },
    {
     "data": {
      "image/png": "[encoded data removed]",
      "text/plain": [
       "<Figure size 432x288 with 1 Axes>"
      ]
     },
     "metadata": {
      "needs_background": "light"
     },
     "output_type": "display_data"
    }
   ],
   "source": [
    "plt.figure()\n",
    "plt.plot(R, Y)\n",
    "plt.scatter(rates, profits, color='red')\n",
    "plt.title('Profits with respect to interest rates')\n",
    "plt.xlabel(f'$r_1$')\n",
    "plt.ylabel(f'$\\Pi_2$')\n",
    "plt.legend()\n",
    "plt.axvline(x=0.08, color='gray', linestyle='--')\n",
    "plt.axvline(x=0.12, color='gray', linestyle='--')\n",
    "plt.grid(False)\n",
    "plt.savefig('media/profits_wrt_interest_rates.png')"
   ]
  },
  {
   "cell_type": "code",
   "execution_count": 88,
   "metadata": {},
   "outputs": [
    {
     "data": {
      "text/plain": [
       "<Figure size 432x288 with 0 Axes>"
      ]
     },
     "metadata": {},
     "output_type": "display_data"
    }
   ],
   "source": [
    "plt.savefig('media/profits_wrt_interest_rates.png')"
   ]
  },
  {
   "cell_type": "code",
   "execution_count": null,
   "metadata": {},
   "outputs": [],
   "source": []
  }
 ],
 "metadata": {
  "kernelspec": {
   "display_name": "Python 3",
   "language": "python",
   "name": "python3"
  },
  "language_info": {
   "codemirror_mode": {
    "name": "ipython",
    "version": 3
   },
   "file_extension": ".py",
   "mimetype": "text/x-python",
   "name": "python",
   "nbconvert_exporter": "python",
   "pygments_lexer": "ipython3",
   "version": "3.9.7"
  }
 },
 "nbformat": 4,
 "nbformat_minor": 2
}
