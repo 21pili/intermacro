{
 "cells": [
  {
   "cell_type": "markdown",
   "metadata": {},
   "source": [
    "## EXERCISE 2 - IMPERFECT CAPITAL MOBILITY AND CROWDING OUT"
   ]
  },
  {
   "cell_type": "code",
   "execution_count": null,
   "metadata": {},
   "outputs": [],
   "source": [
    "import numpy as np\n",
    "import matplotlib.pyplot as plt"
   ]
  },
  {
   "cell_type": "code",
   "execution_count": null,
   "metadata": {},
   "outputs": [],
   "source": [
    "#CONSTANTES\n",
    "beta = 0.96\n",
    "rstar = 0.08\n",
    "p = 0.02\n",
    "Y = 20"
   ]
  },
  {
   "cell_type": "code",
   "execution_count": null,
   "metadata": {},
   "outputs": [],
   "source": [
    "# FONCTIONS SIMPLES\n",
    "def I1(r1):\n",
    "    return 9 * 1/(1+r1)**2\n",
    "def Pi(r1, I1):\n",
    "    return 6 * np.sqrt(I1) - (1+r1) * I1\n",
    "def Wh(r1, I1, G):\n",
    "    return Y - G[0] + (Pi(r1, I1) - G[1]) / (1 + r1)\n",
    "def B1(r1, G):\n",
    "    f = 1 / (1 + beta)\n",
    "    I = I1(r1)\n",
    "    C1 = f * Wh(r1, I, G)\n",
    "    return Y - G[0] - C1 - I"
   ]
  },
  {
   "cell_type": "code",
   "execution_count": null,
   "metadata": {},
   "outputs": [],
   "source": [
    "#QUESTION 1\n",
    "G = [1, 7]\n",
    "Bstar = B1(rstar, G)\n",
    "Bp = B1(rstar+p, G)\n",
    "print(Bstar)\n",
    "print(Bp)\n",
    "print(I1(rstar))"
   ]
  },
  {
   "cell_type": "code",
   "execution_count": null,
   "metadata": {},
   "outputs": [],
   "source": [
    "#QUESTION 2\n",
    "G = [2, 7]\n",
    "B = B1(rstar, G)\n",
    "print(B)\n",
    "B = B1(rstar + p, G)\n",
    "print(B)\n",
    "print(I1(rstar))"
   ]
  },
  {
   "cell_type": "code",
   "execution_count": null,
   "metadata": {},
   "outputs": [],
   "source": [
    "#QUESTION 3\n",
    "G = [4, 7]\n",
    "B = B1(rstar, G)\n",
    "print(B)\n",
    "B = B1(rstar + p, G)\n",
    "print(B)\n",
    "print(I1(rstar + p))"
   ]
  },
  {
   "cell_type": "code",
   "execution_count": null,
   "metadata": {},
   "outputs": [],
   "source": [
    "#QUESTION 4\n",
    "G = [4, 7]\n",
    "p = 0.04\n",
    "Bstar = B1(rstar, G)\n",
    "print(Bstar)\n",
    "Bp = B1(rstar + p, G)\n",
    "print(Bp)"
   ]
  },
  {
   "cell_type": "code",
   "execution_count": null,
   "metadata": {},
   "outputs": [],
   "source": [
    "print(Pi(rstar, I1(rstar)))\n",
    "print(Pi(rstar + p, I1(rstar + p)))"
   ]
  },
  {
   "cell_type": "code",
   "execution_count": null,
   "metadata": {},
   "outputs": [],
   "source": [
    "def P(r):\n",
    "    return Pi(r, I1(r))"
   ]
  },
  {
   "cell_type": "code",
   "execution_count": null,
   "metadata": {},
   "outputs": [],
   "source": [
    "R = np.linspace(0.06, 0.14, 100)\n",
    "Y = P(R)\n",
    "rates = [rstar, rstar + p]\n",
    "profits = P(np.array(rates))"
   ]
  },
  {
   "cell_type": "code",
   "execution_count": null,
   "metadata": {},
   "outputs": [],
   "source": [
    "plt.figure()\n",
    "plt.plot(R, Y)\n",
    "plt.scatter(rates, profits, color='red')\n",
    "plt.title('Profits with respect to interest rates')\n",
    "plt.xlabel(f'$r_1$')\n",
    "plt.ylabel(f'$\\Pi_2$')\n",
    "plt.legend()\n",
    "plt.axvline(x=0.08, color='gray', linestyle='--')\n",
    "plt.axvline(x=0.12, color='gray', linestyle='--')\n",
    "plt.grid(False)\n",
    "plt.savefig('media/profits_wrt_interest_rates.png')"
   ]
  },
  {
   "cell_type": "code",
   "execution_count": null,
   "metadata": {},
   "outputs": [],
   "source": [
    "plt.savefig('media/profits_wrt_interest_rates.png')"
   ]
  },
  {
   "cell_type": "markdown",
   "metadata": {},
   "source": [
    "## EXERCISE 4 - DISTORTIONARY TAXES"
   ]
  },
  {
   "cell_type": "code",
   "execution_count": null,
   "metadata": {},
   "outputs": [],
   "source": [
    "beta = 10/11\n",
    "Y = [10, 10]\n",
    "rstar = 0.1\n",
    "G = [2, 2]\n",
    "tau = [0.2, 0.2]"
   ]
  },
  {
   "cell_type": "code",
   "execution_count": null,
   "metadata": {},
   "outputs": [],
   "source": [
    "def W(Y, G, rstar):\n",
    "    return Y[0] - G[0] + (Y[1] - G[1])/(1 + rstar)\n",
    "\n",
    "def alpha(beta, tau):\n",
    "    return 1/((1+beta)*(1+tau[0])) + beta/((1+beta)*(1+tau[1]))\n",
    "\n",
    "def T(beta, Y, rstar, G, tau):\n",
    "    w = W(Y, G, rstar)\n",
    "    a = alpha(beta, tau)\n",
    "    return Y[0] + Y[1]/(1+rstar) - w / a\n",
    "\n",
    "def Wh(beta, Y, rstar, G, tau):\n",
    "    w = W(Y, G, rstar)\n",
    "    a = alpha(beta, tau)\n",
    "    return w / a\n",
    "\n",
    "def C(beta, Y, rstar, G, tau):\n",
    "    wh = Wh(beta, Y, rstar, G, tau)\n",
    "    return [wh/((1+beta)*(1+tau[0])),(wh * beta)/((1+beta)*(1+tau[1]))]\n",
    "\n",
    "def TB(beta, Y, rstar, G, tau):\n",
    "    c = C(beta, Y, rstar, G, tau)\n",
    "    return np.array(Y) - np.array(c) - np.array(G)"
   ]
  },
  {
   "cell_type": "code",
   "execution_count": null,
   "metadata": {},
   "outputs": [],
   "source": [
    "c_i = C(beta, Y, rstar, G, tau) \n",
    "t_i = T(beta, Y, rstar, G, tau)\n",
    "tb_i = TB(beta, Y, rstar, G, tau)"
   ]
  },
  {
   "cell_type": "code",
   "execution_count": null,
   "metadata": {},
   "outputs": [],
   "source": [
    "print(t_i)\n",
    "print(c_i)\n",
    "print(tb_i)"
   ]
  },
  {
   "cell_type": "code",
   "execution_count": null,
   "metadata": {},
   "outputs": [],
   "source": [
    "beta = 10/11\n",
    "Y = [10, 10]\n",
    "rstar = 0.1\n",
    "G = [2, 2]\n",
    "Tl = t_i #Eq. tax from the previous question."
   ]
  },
  {
   "cell_type": "code",
   "execution_count": null,
   "metadata": {},
   "outputs": [],
   "source": [
    "def tau_2(Y, G, rstar, Tl, beta, tau_1):\n",
    "    w = W(Y, G, rstar)\n",
    "    A = (w * (1 + beta))/(beta*(Y[0] + (Y[1])/(1 + rstar))- Tl) - (1)/(beta*(1 + tau_1))\n",
    "    return A**(-1) - 1"
   ]
  },
  {
   "cell_type": "code",
   "execution_count": null,
   "metadata": {},
   "outputs": [],
   "source": [
    "tau = [0.1]\n",
    "tau.append(tau_2(Y, G, rstar, Tl, beta, 0.1))"
   ]
  },
  {
   "cell_type": "code",
   "execution_count": null,
   "metadata": {},
   "outputs": [],
   "source": [
    "print(tau)"
   ]
  },
  {
   "cell_type": "code",
   "execution_count": null,
   "metadata": {},
   "outputs": [],
   "source": [
    "c_f = C(beta, Y, rstar, G, tau)\n",
    "tb_f = TB(beta, Y, rstar, G, tau)"
   ]
  },
  {
   "cell_type": "code",
   "execution_count": null,
   "metadata": {},
   "outputs": [],
   "source": [
    "print(c_f)\n",
    "print(tb_f)"
   ]
  },
  {
   "cell_type": "code",
   "execution_count": null,
   "metadata": {},
   "outputs": [],
   "source": [
    "def U(C, beta):\n",
    "    return np.log(C[0]) + beta * np.log(C[1])"
   ]
  },
  {
   "cell_type": "code",
   "execution_count": null,
   "metadata": {},
   "outputs": [],
   "source": [
    "U_i = U(c_i, beta)\n",
    "U_f = U(c_f, beta)"
   ]
  },
  {
   "cell_type": "code",
   "execution_count": null,
   "metadata": {},
   "outputs": [],
   "source": [
    "print(U_i, U_f)"
   ]
  }
 ],
 "metadata": {
  "kernelspec": {
   "display_name": "Python 3",
   "language": "python",
   "name": "python3"
  },
  "language_info": {
   "codemirror_mode": {
    "name": "ipython",
    "version": 3
   },
   "file_extension": ".py",
   "mimetype": "text/x-python",
   "name": "python",
   "nbconvert_exporter": "python",
   "pygments_lexer": "ipython3",
   "version": "3.9.7"
  }
 },
 "nbformat": 4,
 "nbformat_minor": 2
}
