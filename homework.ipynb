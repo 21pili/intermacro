{
 "cells": [
  {
   "cell_type": "markdown",
   "metadata": {},
   "source": [
    "## EXERCISE 2 - IMPERFECT CAPITAL MOBILITY AND CROWDING OUT"
   ]
  },
  {
   "cell_type": "markdown",
   "metadata": {},
   "source": []
  },
  {
   "cell_type": "code",
   "execution_count": null,
   "metadata": {},
   "outputs": [],
   "source": [
    "import numpy as np\n",
    "import matplotlib.pyplot as plt"
   ]
  },
  {
   "cell_type": "code",
   "execution_count": null,
   "metadata": {},
   "outputs": [],
   "source": [
    "#CONSTANTES\n",
    "beta = 0.96\n",
    "rstar = 0.08\n",
    "p = 0.02\n",
    "Y = 20"
   ]
  },
  {
   "cell_type": "code",
   "execution_count": null,
   "metadata": {},
   "outputs": [],
   "source": [
    "# FONCTIONS SIMPLES\n",
    "def I1(r1):\n",
    "    return 9 * 1/(1+r1)**2\n",
    "def Pi(r1, I1):\n",
    "    return 6 * np.sqrt(I1) - (1+r1) * I1\n",
    "def Wh(r1, I1, G):\n",
    "    return Y - G[0] + (Pi(r1, I1) - G[1]) / (1 + r1)\n",
    "def B1(r1, G):\n",
    "    f = 1 / (1 + beta)\n",
    "    I = I1(r1)\n",
    "    C1 = f * Wh(r1, I, G)\n",
    "    return Y - G[0] - C1 - I"
   ]
  },
  {
   "cell_type": "code",
   "execution_count": null,
   "metadata": {},
   "outputs": [],
   "source": [
    "#QUESTION 1\n",
    "G = [1, 7]\n",
    "Bstar = B1(rstar, G)\n",
    "Bp = B1(rstar+p, G)\n",
    "print(Bstar)\n",
    "print(Bp)\n",
    "print(I1(rstar))"
   ]
  },
  {
   "cell_type": "code",
   "execution_count": null,
   "metadata": {},
   "outputs": [],
   "source": []
  },
  {
   "cell_type": "code",
   "execution_count": null,
   "metadata": {},
   "outputs": [],
   "source": [
    "#QUESTION 2\n",
    "G = [2, 7]\n",
    "B = B1(rstar, G)\n",
    "print(B)\n",
    "B = B1(rstar + p, G)\n",
    "print(B)\n",
    "print(I1(rstar))"
   ]
  },
  {
   "cell_type": "code",
   "execution_count": null,
   "metadata": {},
   "outputs": [],
   "source": [
    "#QUESTION 3\n",
    "G = [4, 7]\n",
    "B = B1(rstar, G)\n",
    "print(B)\n",
    "B = B1(rstar + p, G)\n",
    "print(B)\n",
    "print(I1(rstar + p))"
   ]
  },
  {
   "cell_type": "code",
   "execution_count": null,
   "metadata": {},
   "outputs": [],
   "source": [
    "#QUESTION 4\n",
    "G = [4, 7]\n",
    "p = 0.04\n",
    "Bstar = B1(rstar, G)\n",
    "print(Bstar)\n",
    "Bp = B1(rstar + p, G)\n",
    "print(Bp)"
   ]
  },
  {
   "cell_type": "code",
   "execution_count": null,
   "metadata": {},
   "outputs": [],
   "source": [
    "print(Pi(rstar, I1(rstar)))\n",
    "print(Pi(rstar + p, I1(rstar + p)))"
   ]
  },
  {
   "cell_type": "code",
   "execution_count": null,
   "metadata": {},
   "outputs": [],
   "source": [
    "def P(r):\n",
    "    return Pi(r, I1(r))"
   ]
  },
  {
   "cell_type": "code",
   "execution_count": null,
   "metadata": {},
   "outputs": [],
   "source": [
    "P(0.01)"
   ]
  },
  {
   "cell_type": "code",
   "execution_count": null,
   "metadata": {},
   "outputs": [],
   "source": [
    "R = np.linspace(0.06, 0.14, 100)\n",
    "Y = P(R)\n",
    "rates = [rstar, rstar + p]\n",
    "profits = P(np.array(rates))"
   ]
  },
  {
   "cell_type": "code",
   "execution_count": null,
   "metadata": {},
   "outputs": [],
   "source": [
    "plt.figure()\n",
    "plt.plot(R, Y)\n",
    "plt.scatter(rates, profits, color='red')\n",
    "plt.title('Profits with respect to interest rates')\n",
    "plt.xlabel(f'$r_1$')\n",
    "plt.ylabel(f'$\\Pi_2$')\n",
    "plt.legend()\n",
    "plt.axvline(x=0.08, color='gray', linestyle='--')\n",
    "plt.axvline(x=0.12, color='gray', linestyle='--')\n",
    "plt.grid(False)\n",
    "plt.savefig('media/profits_wrt_interest_rates.png')"
   ]
  },
  {
   "cell_type": "code",
   "execution_count": null,
   "metadata": {},
   "outputs": [],
   "source": [
    "plt.savefig('media/profits_wrt_interest_rates.png')"
   ]
  },
  {
   "cell_type": "code",
   "execution_count": null,
   "metadata": {},
   "outputs": [],
   "source": []
  }
 ],
 "metadata": {
  "kernelspec": {
   "display_name": "Python 3",
   "language": "python",
   "name": "python3"
  },
  "language_info": {
   "codemirror_mode": {
    "name": "ipython",
    "version": 3
   },
   "file_extension": ".py",
   "mimetype": "text/x-python",
   "name": "python",
   "nbconvert_exporter": "python",
   "pygments_lexer": "ipython3",
   "version": "3.9.7"
  }
 },
 "nbformat": 4,
 "nbformat_minor": 2
}
