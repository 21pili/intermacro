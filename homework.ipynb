{
 "cells": [
  {
   "cell_type": "markdown",
   "metadata": {},
   "source": [
    "## EXERCISE 2 - IMPERFECT CAPITAL MOBILITY AND CROWDING OUT"
   ]
  },
  {
   "cell_type": "markdown",
   "metadata": {},
   "source": []
  },
  {
   "cell_type": "code",
   "execution_count": 34,
   "metadata": {},
   "outputs": [],
   "source": [
    "import numpy as np\n",
    "import matplotlib.pyplot as plt"
   ]
  },
  {
   "cell_type": "code",
   "execution_count": 35,
   "metadata": {},
   "outputs": [],
   "source": [
    "G = [1, 7]\n",
    "Y = [20]\n",
    "beta = 0.96\n",
    "rstar = 0.08\n",
    "p = 0.02\n",
    "def I1(r1):\n",
    "    return 9 * 1/(1+r1)**2\n",
    "def Pi(r1, I1):\n",
    "    return 6 * np.sqrt(I1) - (1+r1) * I1\n",
    "def Wh(r1, I1):\n",
    "    return Y[0] - G[0] + (Pi(r1, I1) - G[1]) / (1 + r1)\n",
    "def B1(r1):\n",
    "    f = 1 / (1 + beta)\n",
    "    I = I1(r1)\n",
    "    C1 = f * Wh(r1, I)\n",
    "    return Y[0] - G[0] - C1"
   ]
  },
  {
   "cell_type": "code",
   "execution_count": 36,
   "metadata": {},
   "outputs": [
    {
     "name": "stdout",
     "output_type": "stream",
     "text": [
      "8.676240866717057\n"
     ]
    }
   ],
   "source": [
    "I = I1(rstar)\n",
    "P = Pi(rstar, I)\n",
    "W = Wh(rstar, I)\n",
    "B = B1(rstar)\n",
    "print(B)"
   ]
  },
  {
   "cell_type": "code",
   "execution_count": 37,
   "metadata": {},
   "outputs": [],
   "source": [
    "G = [4, 7]\n",
    "Y = [20]\n",
    "beta = 0.96\n",
    "rstar = 0.08\n",
    "p = 0.02"
   ]
  },
  {
   "cell_type": "code",
   "execution_count": 38,
   "metadata": {},
   "outputs": [],
   "source": [
    "I = I1(rstar)\n",
    "P = Pi(rstar, I)\n",
    "W = Wh(rstar, I)\n",
    "B = B1(rstar + p)"
   ]
  },
  {
   "cell_type": "code",
   "execution_count": 39,
   "metadata": {},
   "outputs": [
    {
     "name": "stdout",
     "output_type": "stream",
     "text": [
      "7.288581548321808\n"
     ]
    }
   ],
   "source": [
    "print(B)"
   ]
  },
  {
   "cell_type": "code",
   "execution_count": 40,
   "metadata": {},
   "outputs": [],
   "source": [
    "def r(B1):\n",
    "    if B1 < 0:\n",
    "        return r + p\n",
    "    else:\n",
    "        return r"
   ]
  }
 ],
 "metadata": {
  "kernelspec": {
   "display_name": "Python 3",
   "language": "python",
   "name": "python3"
  },
  "language_info": {
   "codemirror_mode": {
    "name": "ipython",
    "version": 3
   },
   "file_extension": ".py",
   "mimetype": "text/x-python",
   "name": "python",
   "nbconvert_exporter": "python",
   "pygments_lexer": "ipython3",
   "version": "3.9.7"
  }
 },
 "nbformat": 4,
 "nbformat_minor": 2
}
